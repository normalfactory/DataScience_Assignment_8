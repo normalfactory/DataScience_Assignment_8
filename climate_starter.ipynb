{
 "cells": [
  {
   "cell_type": "markdown",
   "metadata": {},
   "source": [
    "# Climate Anlysis and Exploration\n",
    "March 26, 2019  \n",
    "Scott McEachern"
   ]
  },
  {
   "cell_type": "code",
   "execution_count": 1,
   "metadata": {},
   "outputs": [],
   "source": [
    "#-- Import Dependency\n",
    "\n",
    "#- Charting\n",
    "%matplotlib inline\n",
    "\n",
    "from matplotlib import style\n",
    "style.use('fivethirtyeight')\n",
    "import matplotlib.pyplot as plt\n",
    "\n",
    "import numpy as np\n",
    "import pandas as pd\n",
    "\n",
    "\n",
    "import datetime as dt\n",
    "from datetime import datetime\n",
    "from dateutil.relativedelta import relativedelta\n",
    "\n",
    "\n",
    "#- Object Relational Mapper\n",
    "import sqlalchemy\n",
    "from sqlalchemy.ext.automap import automap_base\n",
    "from sqlalchemy.orm import Session\n",
    "from sqlalchemy import create_engine, func, inspect\n"
   ]
  },
  {
   "cell_type": "markdown",
   "metadata": {},
   "source": [
    "# Reflect Tables into SQLAlchemy ORM"
   ]
  },
  {
   "cell_type": "code",
   "execution_count": 2,
   "metadata": {},
   "outputs": [
    {
     "data": {
      "text/plain": [
       "['measurement', 'station']"
      ]
     },
     "execution_count": 2,
     "metadata": {},
     "output_type": "execute_result"
    }
   ],
   "source": [
    "#- Create Engine\n",
    "engine = create_engine(\"sqlite:///Resources/hawaii.sqlite\")\n",
    "\n",
    "\n",
    "#- Reflect the Tables\n",
    "Base = automap_base()\n",
    "Base.prepare(engine, reflect=True)\n",
    "\n",
    "\n",
    "#- Display Tables found\n",
    "Base.classes.keys()"
   ]
  },
  {
   "cell_type": "code",
   "execution_count": 3,
   "metadata": {},
   "outputs": [],
   "source": [
    "#- Reference Tables\n",
    "Measurement = Base.classes.measurement\n",
    "Station = Base.classes.station\n",
    "\n",
    "\n",
    "#- Create Session\n",
    "session = Session(engine)"
   ]
  },
  {
   "cell_type": "markdown",
   "metadata": {},
   "source": [
    "# Exploratory Climate Analysis"
   ]
  },
  {
   "cell_type": "code",
   "execution_count": 4,
   "metadata": {
    "scrolled": true
   },
   "outputs": [],
   "source": [
    "def printColumnNames(inspector, tableName):\n",
    "    '''Prints column metadata\n",
    "    \n",
    "    Accepts : inspector (inspect) reference to sqlalchemy inspect used to get metadata\n",
    "              tableName (str) name of table to get metadata\n",
    "    '''\n",
    "    \n",
    "    print(f\"--->  {tableName}\")\n",
    "    \n",
    "    columns = inspector.get_columns(tableName)\n",
    "\n",
    "    for column in columns:\n",
    "        print(f\"{column['name']}  {column['type']}\")"
   ]
  },
  {
   "cell_type": "code",
   "execution_count": 5,
   "metadata": {
    "scrolled": true
   },
   "outputs": [
    {
     "name": "stdout",
     "output_type": "stream",
     "text": [
      "--->  measurement\n",
      "id  INTEGER\n",
      "station  TEXT\n",
      "date  TEXT\n",
      "prcp  FLOAT\n",
      "tobs  FLOAT\n",
      " \n",
      "--->  station\n",
      "id  INTEGER\n",
      "station  TEXT\n",
      "name  TEXT\n",
      "latitude  FLOAT\n",
      "longitude  FLOAT\n",
      "elevation  FLOAT\n"
     ]
    }
   ],
   "source": [
    "#- View Columns: Measurement\n",
    "inspector = inspect(engine)\n",
    "\n",
    "printColumnNames(inspector, 'measurement')\n",
    "\n",
    "print(\" \")\n",
    "printColumnNames(inspector, 'station')\n"
   ]
  },
  {
   "cell_type": "markdown",
   "metadata": {},
   "source": [
    "## 1.1 Precipitation Analysis\n",
    "* Design a query to retrieve the last 12 months of precipitation data.\n",
    "* Select only the date and prcp values.\n",
    "* Load the query results into a Pandas DataFrame and set the index to the date column.\n",
    "* Sort the DataFrame values by date.\n",
    "* Plot the results using the DataFrame plot method."
   ]
  },
  {
   "cell_type": "code",
   "execution_count": 6,
   "metadata": {},
   "outputs": [
    {
     "name": "stdout",
     "output_type": "stream",
     "text": [
      "Query start date: 2016-08-23 00:00:00\n",
      "Query end date: 2017-08-23 00:00:00\n"
     ]
    }
   ],
   "source": [
    "#-- Determine Dates\n",
    "\n",
    "#- Last date in dataset\n",
    "lastDateString = session.query(func.max(Measurement.date)).scalar()\n",
    "\n",
    "\n",
    "#- Convert to DateTime from String\n",
    "lastDate = datetime.strptime(lastDateString, '%Y-%m-%d')\n",
    "\n",
    "\n",
    "#- 12 Months from last date\n",
    "startDate = lastDate - relativedelta(years=1)\n",
    "\n",
    "\n",
    "#- Display Dates\n",
    "print(f\"Query start date: {startDate}\")\n",
    "print(f\"Query end date: {lastDate}\")"
   ]
  },
  {
   "cell_type": "code",
   "execution_count": 7,
   "metadata": {},
   "outputs": [
    {
     "data": {
      "text/html": [
       "<div>\n",
       "<style scoped>\n",
       "    .dataframe tbody tr th:only-of-type {\n",
       "        vertical-align: middle;\n",
       "    }\n",
       "\n",
       "    .dataframe tbody tr th {\n",
       "        vertical-align: top;\n",
       "    }\n",
       "\n",
       "    .dataframe thead th {\n",
       "        text-align: right;\n",
       "    }\n",
       "</style>\n",
       "<table border=\"1\" class=\"dataframe\">\n",
       "  <thead>\n",
       "    <tr style=\"text-align: right;\">\n",
       "      <th></th>\n",
       "      <th>Precipitation</th>\n",
       "    </tr>\n",
       "    <tr>\n",
       "      <th>Date</th>\n",
       "      <th></th>\n",
       "    </tr>\n",
       "  </thead>\n",
       "  <tbody>\n",
       "    <tr>\n",
       "      <th>2016-08-24</th>\n",
       "      <td>0.08</td>\n",
       "    </tr>\n",
       "    <tr>\n",
       "      <th>2016-08-24</th>\n",
       "      <td>NaN</td>\n",
       "    </tr>\n",
       "    <tr>\n",
       "      <th>2016-08-24</th>\n",
       "      <td>2.15</td>\n",
       "    </tr>\n",
       "    <tr>\n",
       "      <th>2016-08-24</th>\n",
       "      <td>2.28</td>\n",
       "    </tr>\n",
       "    <tr>\n",
       "      <th>2016-08-24</th>\n",
       "      <td>2.15</td>\n",
       "    </tr>\n",
       "  </tbody>\n",
       "</table>\n",
       "</div>"
      ],
      "text/plain": [
       "            Precipitation\n",
       "Date                     \n",
       "2016-08-24           0.08\n",
       "2016-08-24            NaN\n",
       "2016-08-24           2.15\n",
       "2016-08-24           2.28\n",
       "2016-08-24           2.15"
      ]
     },
     "execution_count": 7,
     "metadata": {},
     "output_type": "execute_result"
    }
   ],
   "source": [
    "#-- Create DataFrame\n",
    "\n",
    "#- Columns for dataframe\n",
    "sel = [Measurement.date,\n",
    "      Measurement.prcp]\n",
    "\n",
    "\n",
    "#- Create List of Records\n",
    "records = session.query(*sel).filter(Measurement.date.between(startDate, lastDate)).all()\n",
    "\n",
    "\n",
    "#- Create DataFrame\n",
    "dateColumn = 'Date'\n",
    "prcpColumn = 'Precipitation'\n",
    "precipitation_df = pd.DataFrame(records, columns=[dateColumn, prcpColumn])\n",
    "\n",
    "\n",
    "#- Set Index on Date\n",
    "precipitation_df.set_index(dateColumn, inplace=True)\n",
    "\n",
    "\n",
    "#- Sort by Date\n",
    "precipitation_df = precipitation_df.sort_values(by=[dateColumn])\n",
    "\n",
    "\n",
    "#- Preview DataFrame\n",
    "precipitation_df.head()"
   ]
  },
  {
   "cell_type": "code",
   "execution_count": 8,
   "metadata": {
    "scrolled": true
   },
   "outputs": [
    {
     "data": {
      "image/png": "[encoded data removed]",
      "text/plain": [
       "<Figure size 864x432 with 1 Axes>"
      ]
     },
     "metadata": {
      "needs_background": "light"
     },
     "output_type": "display_data"
    },
    {
     "data": {
      "image/png": "[encoded data removed]",
      "text/plain": [
       "<Figure size 432x288 with 1 Axes>"
      ]
     },
     "metadata": {
      "needs_background": "light"
     },
     "output_type": "display_data"
    }
   ],
   "source": [
    "#-- Plot Results\n",
    "\n",
    "#- Set Chart Metadata\n",
    "precipitation_df.plot(figsize=(12, 6))\n",
    "\n",
    "plt.title(f\"Precipitation in Hawaii; {startDate.strftime('%Y-%m-%d')} to {lastDate.strftime('%Y-%m-%d')}\")\n",
    "plt.ylabel('Precipitation (Inches)')\n",
    "          \n",
    "plt.xlabel(\"Date\")\n",
    "plt.xticks([])\n",
    "  \n",
    "#- Create Plot\n",
    "precipitation_df.plot.bar()\n",
    "\n",
    "#- Display\n",
    "plt.show()"
   ]
  },
  {
   "cell_type": "code",
   "execution_count": 9,
   "metadata": {},
   "outputs": [
    {
     "data": {
      "text/html": [
       "<div>\n",
       "<style scoped>\n",
       "    .dataframe tbody tr th:only-of-type {\n",
       "        vertical-align: middle;\n",
       "    }\n",
       "\n",
       "    .dataframe tbody tr th {\n",
       "        vertical-align: top;\n",
       "    }\n",
       "\n",
       "    .dataframe thead th {\n",
       "        text-align: right;\n",
       "    }\n",
       "</style>\n",
       "<table border=\"1\" class=\"dataframe\">\n",
       "  <thead>\n",
       "    <tr style=\"text-align: right;\">\n",
       "      <th></th>\n",
       "      <th>Precipitation</th>\n",
       "    </tr>\n",
       "  </thead>\n",
       "  <tbody>\n",
       "    <tr>\n",
       "      <th>count</th>\n",
       "      <td>2015.000000</td>\n",
       "    </tr>\n",
       "    <tr>\n",
       "      <th>mean</th>\n",
       "      <td>0.176462</td>\n",
       "    </tr>\n",
       "    <tr>\n",
       "      <th>std</th>\n",
       "      <td>0.460288</td>\n",
       "    </tr>\n",
       "    <tr>\n",
       "      <th>min</th>\n",
       "      <td>0.000000</td>\n",
       "    </tr>\n",
       "    <tr>\n",
       "      <th>25%</th>\n",
       "      <td>0.000000</td>\n",
       "    </tr>\n",
       "    <tr>\n",
       "      <th>50%</th>\n",
       "      <td>0.020000</td>\n",
       "    </tr>\n",
       "    <tr>\n",
       "      <th>75%</th>\n",
       "      <td>0.130000</td>\n",
       "    </tr>\n",
       "    <tr>\n",
       "      <th>max</th>\n",
       "      <td>6.700000</td>\n",
       "    </tr>\n",
       "  </tbody>\n",
       "</table>\n",
       "</div>"
      ],
      "text/plain": [
       "       Precipitation\n",
       "count    2015.000000\n",
       "mean        0.176462\n",
       "std         0.460288\n",
       "min         0.000000\n",
       "25%         0.000000\n",
       "50%         0.020000\n",
       "75%         0.130000\n",
       "max         6.700000"
      ]
     },
     "execution_count": 9,
     "metadata": {},
     "output_type": "execute_result"
    }
   ],
   "source": [
    "#-- Summary Statistics\n",
    "precipitation_df.describe()"
   ]
  },
  {
   "cell_type": "markdown",
   "metadata": {},
   "source": [
    "## 1.2 Station Analysis\n",
    "* Design a query to calculate the total number of stations.\n",
    "* Design a query to find the most active stations.\n",
    "** List the stations and observation counts in descending order.\n",
    "** Which station has the highest number of observations?\n",
    "** Hint: You may need to use functions such as func.min, func.max, func.avg, and func.count in your queries.\n",
    "\n",
    "* Design a query to retrieve the last 12 months of temperature observation data (tobs).\n",
    "** Filter by the station with the highest number of observations.\n",
    "** Plot the results as a histogram with bins=12."
   ]
  },
  {
   "cell_type": "code",
   "execution_count": 10,
   "metadata": {},
   "outputs": [
    {
     "name": "stdout",
     "output_type": "stream",
     "text": [
      "Number of stations within dataset: 9\n"
     ]
    }
   ],
   "source": [
    "#-- Stations within Dataset\n",
    "numStations = session.query(Station).count()\n",
    "\n",
    "print(f\"Number of stations within dataset: {numStations}\")"
   ]
  },
  {
   "cell_type": "code",
   "execution_count": 11,
   "metadata": {},
   "outputs": [
    {
     "data": {
      "text/plain": [
       "[('USC00519281', 2772),\n",
       " ('USC00519397', 2724),\n",
       " ('USC00513117', 2709),\n",
       " ('USC00519523', 2669),\n",
       " ('USC00516128', 2612),\n",
       " ('USC00514830', 2202),\n",
       " ('USC00511918', 1979),\n",
       " ('USC00517948', 1372),\n",
       " ('USC00518838', 511)]"
      ]
     },
     "execution_count": 11,
     "metadata": {},
     "output_type": "execute_result"
    }
   ],
   "source": [
    "#-- Most Active Stations\n",
    "activeStations = session.query(Measurement.station, func.count(Measurement.station))\\\n",
    "                    .group_by(Measurement.station).order_by(func.count(Measurement.station).desc()).all()\n",
    "\n",
    "activeStations"
   ]
  },
  {
   "cell_type": "code",
   "execution_count": 12,
   "metadata": {},
   "outputs": [
    {
     "name": "stdout",
     "output_type": "stream",
     "text": [
      "Lowest temperature recorded: 54.0\n",
      "Highest temperature recorded: 85.0\n",
      "Average temperature: 71.66378066378067\n"
     ]
    }
   ],
   "source": [
    "#-- Metadata from Active Station\n",
    "\n",
    "#- Get Active Station\n",
    "activeStationID = activeStations[0][0]\n",
    "\n",
    "#- Query for Temperature Information\n",
    "activeStationTemp = session.query(func.min(Measurement.tobs), \\\n",
    "                                  func.max(Measurement.tobs), \\\n",
    "                                  func.avg(Measurement.tobs))\\\n",
    "                                .filter(Measurement.station == activeStationID).all()\n",
    "\n",
    "print(f\"Lowest temperature recorded: {activeStationTemp[0][0]}\")\n",
    "print(f\"Highest temperature recorded: {activeStationTemp[0][1]}\")\n",
    "print(f\"Average temperature: {activeStationTemp[0][2]}\")"
   ]
  },
  {
   "cell_type": "code",
   "execution_count": 13,
   "metadata": {},
   "outputs": [
    {
     "data": {
      "text/plain": [
       "<matplotlib.axes._subplots.AxesSubplot at 0x11c38cda0>"
      ]
     },
     "execution_count": 13,
     "metadata": {},
     "output_type": "execute_result"
    },
    {
     "data": {
      "image/png": "[encoded data removed]",
      "text/plain": [
       "<Figure size 432x288 with 1 Axes>"
      ]
     },
     "metadata": {
      "needs_background": "light"
     },
     "output_type": "display_data"
    }
   ],
   "source": [
    "#-- Get Date Range\n",
    "#- Get End Date\n",
    "activeStationLastObservation = session.query(func.max(Measurement.date))\\\n",
    "    .filter(Measurement.station == activeStationID).scalar()\n",
    "\n",
    "activeStationLastObservation\n",
    "\n",
    "#- Convert to DateTime from String\n",
    "activeStationLastDate = datetime.strptime(activeStationLastObservation, '%Y-%m-%d')\n",
    "\n",
    "\n",
    "#- 12 Months from last date\n",
    "activeStationStartDate = activeStationLastDate - relativedelta(years=1)\n",
    "\n",
    "\n",
    "#-- Get Records\n",
    "activeStationTemps = session.query(Measurement.tobs)\\\n",
    "                        .filter(Measurement.date.between(activeStationStartDate, activeStationLastDate))\\\n",
    "                        .filter(Measurement.station == activeStationID).all()\n",
    "\n",
    "\n",
    "#-- Create Data Frame\n",
    "activeStationTemps_df = pd.DataFrame(activeStationTemps, columns=['tobs'])\n",
    "\n",
    "\n",
    "#-- Plot Histogram\n",
    "activeStationTemps_df.plot.hist(bins = 12)\n"
   ]
  },
  {
   "cell_type": "markdown",
   "metadata": {},
   "source": [
    "## 1.3 Temperature Analysis\n",
    "* The starter notebook contains a function called calc_temps that will accept a start date and end date in the format %Y-%m-%d and return the minimum, average, and maximum temperatures for that range of dates.\n",
    "* Use the calc_temps function to calculate the min, avg, and max temperatures for your trip using the matching dates from the previous year (i.e., use \"2017-01-01\" if your trip start date was \"2018-01-01\").\n",
    "* Plot the min, avg, and max temperature from your previous query as a bar chart.\n",
    "** Use the average temperature as the bar height.\n",
    "** Use the peak-to-peak (tmax-tmin) value as the y error bar (yerr)"
   ]
  },
  {
   "cell_type": "code",
   "execution_count": 14,
   "metadata": {},
   "outputs": [
    {
     "name": "stdout",
     "output_type": "stream",
     "text": [
      "[(62.0, 69.57142857142857, 74.0)]\n"
     ]
    }
   ],
   "source": [
    "# This function called `calc_temps` will accept start date and end date in the format '%Y-%m-%d' \n",
    "# and return the minimum, average, and maximum temperatures for that range of dates\n",
    "def calc_temps(start_date, end_date):\n",
    "    \"\"\"TMIN, TAVG, and TMAX for a list of dates.\n",
    "    \n",
    "    Args:\n",
    "        start_date (string): A date string in the format %Y-%m-%d\n",
    "        end_date (string): A date string in the format %Y-%m-%d\n",
    "        \n",
    "    Returns:\n",
    "        TMIN, TAVE, and TMAX\n",
    "    \"\"\"\n",
    "    \n",
    "    return session.query(func.min(Measurement.tobs), func.avg(Measurement.tobs), func.max(Measurement.tobs)).\\\n",
    "        filter(Measurement.date >= start_date).filter(Measurement.date <= end_date).all()\n",
    "\n",
    "# function usage example\n",
    "print(calc_temps('2012-02-28', '2012-03-05'))"
   ]
  },
  {
   "cell_type": "code",
   "execution_count": 15,
   "metadata": {},
   "outputs": [],
   "source": [
    "#-- Determine Temperature Metadata\n",
    "\n",
    "#- Vacation Dates\n",
    "startVacation = \"2016-09-13\"\n",
    "endVacation = \"2016-09-27\"\n",
    "\n",
    "\n",
    "#- Calculate Metadata\n",
    "vacationStats = calc_temps(startVacation, endVacation)\n",
    "\n",
    "vacationMinTemp = vacationStats[0][0]\n",
    "\n",
    "vacationAveTemp = vacationStats[0][1]\n",
    "\n",
    "vacationMaxTemp = vacationStats[0][2]\n",
    "\n",
    "\n",
    "#- Calculate Peak Range\n",
    "vacationRangeTemp = vacationMaxTemp - vacationMinTemp\n"
   ]
  },
  {
   "cell_type": "code",
   "execution_count": 32,
   "metadata": {},
   "outputs": [
    {
     "data": {
      "image/png": "[encoded data removed]",
      "text/plain": [
       "<Figure size 144x288 with 1 Axes>"
      ]
     },
     "metadata": {
      "needs_background": "light"
     },
     "output_type": "display_data"
    }
   ],
   "source": [
    "#-- Plot Trip Avg Temp\n",
    "\n",
    "#- Set size\n",
    "plt.figure(figsize=(2,4))\n",
    "\n",
    "#- Create Bar Chart\n",
    "plt.bar('', vacationAveTemp, alpha=0.7, yerr=vacationRangeTemp, color='darkorange')\n",
    "\n",
    "#- Set Labels\n",
    "plt.ylabel('Temp (F)')\n",
    "plt.title('Trip Avg Temp')\n",
    "plt.xlabel('')\n",
    "\n",
    "#- Y Axis Limits\n",
    "plt.ylim(0, 100)\n",
    "\n",
    "#- Display Chart\n",
    "plt.show()\n"
   ]
  },
  {
   "cell_type": "code",
   "execution_count": null,
   "metadata": {},
   "outputs": [],
   "source": []
  },
  {
   "cell_type": "code",
   "execution_count": null,
   "metadata": {},
   "outputs": [],
   "source": []
  },
  {
   "cell_type": "code",
   "execution_count": null,
   "metadata": {},
   "outputs": [],
   "source": [
    "# Calculate the rainfall per weather station for your trip dates using the previous year's matching dates.\n",
    "# Sort this in descending order by precipitation amount and list the station, name, latitude, longitude, and elevation\n",
    "\n"
   ]
  },
  {
   "cell_type": "markdown",
   "metadata": {},
   "source": [
    "## Optional Challenge Assignment"
   ]
  },
  {
   "cell_type": "code",
   "execution_count": null,
   "metadata": {},
   "outputs": [],
   "source": [
    "# Create a query that will calculate the daily normals \n",
    "# (i.e. the averages for tmin, tmax, and tavg for all historic data matching a specific month and day)\n",
    "\n",
    "def daily_normals(date):\n",
    "    \"\"\"Daily Normals.\n",
    "    \n",
    "    Args:\n",
    "        date (str): A date string in the format '%m-%d'\n",
    "        \n",
    "    Returns:\n",
    "        A list of tuples containing the daily normals, tmin, tavg, and tmax\n",
    "    \n",
    "    \"\"\"\n",
    "    \n",
    "    sel = [func.min(Measurement.tobs), func.avg(Measurement.tobs), func.max(Measurement.tobs)]\n",
    "    return session.query(*sel).filter(func.strftime(\"%m-%d\", Measurement.date) == date).all()\n",
    "    \n",
    "daily_normals(\"01-01\")"
   ]
  },
  {
   "cell_type": "code",
   "execution_count": null,
   "metadata": {},
   "outputs": [],
   "source": [
    "# calculate the daily normals for your trip\n",
    "# push each tuple of calculations into a list called `normals`\n",
    "\n",
    "# Set the start and end date of the trip\n",
    "\n",
    "# Use the start and end date to create a range of dates\n",
    "\n",
    "# Stip off the year and save a list of %m-%d strings\n",
    "\n",
    "# Loop through the list of %m-%d strings and calculate the normals for each date\n"
   ]
  },
  {
   "cell_type": "code",
   "execution_count": null,
   "metadata": {},
   "outputs": [],
   "source": [
    "# Load the previous query results into a Pandas DataFrame and add the `trip_dates` range as the `date` index\n"
   ]
  },
  {
   "cell_type": "code",
   "execution_count": null,
   "metadata": {},
   "outputs": [],
   "source": [
    "# Plot the daily normals as an area plot with `stacked=False`\n"
   ]
  }
 ],
 "metadata": {
  "kernel_info": {
   "name": "python3"
  },
  "kernelspec": {
   "display_name": "Python 3",
   "language": "python",
   "name": "python3"
  },
  "language_info": {
   "codemirror_mode": {
    "name": "ipython",
    "version": 3
   },
   "file_extension": ".py",
   "mimetype": "text/x-python",
   "name": "python",
   "nbconvert_exporter": "python",
   "pygments_lexer": "ipython3",
   "version": "3.7.1"
  },
  "nteract": {
   "version": "0.9.1"
  },
  "varInspector": {
   "cols": {
    "lenName": 16,
    "lenType": 16,
    "lenVar": 40
   },
   "kernels_config": {
    "python": {
     "delete_cmd_postfix": "",
     "delete_cmd_prefix": "del ",
     "library": "var_list.py",
     "varRefreshCmd": "print(var_dic_list())"
    },
    "r": {
     "delete_cmd_postfix": ") ",
     "delete_cmd_prefix": "rm(",
     "library": "var_list.r",
     "varRefreshCmd": "cat(var_dic_list()) "
    }
   },
   "types_to_exclude": [
    "module",
    "function",
    "builtin_function_or_method",
    "instance",
    "_Feature"
   ],
   "window_display": false
  }
 },
 "nbformat": 4,
 "nbformat_minor": 2
}
